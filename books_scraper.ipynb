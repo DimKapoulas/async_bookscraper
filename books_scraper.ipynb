{
 "cells": [
  {
   "cell_type": "code",
   "execution_count": 5,
   "id": "7a625046-e11e-46c5-9e9d-0e83ec4917c7",
   "metadata": {},
   "outputs": [],
   "source": [
    "import requests\n",
    "from bs4 import BeautifulSoup"
   ]
  },
  {
   "cell_type": "code",
   "execution_count": 2,
   "id": "433fe225-46ce-4e6f-be5d-d838e3269688",
   "metadata": {},
   "outputs": [
    {
     "data": {
      "text/plain": [
       "<Response [200]>"
      ]
     },
     "execution_count": 2,
     "metadata": {},
     "output_type": "execute_result"
    }
   ],
   "source": [
    "# Get the site\n",
    "URL = \"http://books.toscrape.com/catalogue/page-1.html\"\n",
    "\n",
    "response = requests.get(URL)\n",
    "response"
   ]
  },
  {
   "cell_type": "code",
   "execution_count": 8,
   "id": "4d0cba99-623a-47fc-b9fc-a21ce7790cc6",
   "metadata": {},
   "outputs": [],
   "source": [
    "# Parse site's content html\n",
    "content = response.content\n",
    "soup =  BeautifulSoup(content, 'html.parser')"
   ]
  },
  {
   "cell_type": "code",
   "execution_count": 35,
   "id": "fec75313-c4c5-4659-a6d8-69ed4c12557b",
   "metadata": {},
   "outputs": [],
   "source": [
    "# Get title, price from the list of books\n",
    "ol = soup.find('ol')\n",
    "articles = ol.find_all('article', class_='product_pod')\n",
    "\n",
    "for article in articles:\n",
    "    image = article.find('img')\n",
    "    title = image.attrs['alt']\n",
    "    title"
   ]
  },
  {
   "cell_type": "code",
   "execution_count": null,
   "id": "39728483-fc6a-467c-afa2-61e94c738625",
   "metadata": {},
   "outputs": [],
   "source": [
    "o"
   ]
  }
 ],
 "metadata": {
  "kernelspec": {
   "display_name": "data311",
   "language": "python",
   "name": "data311"
  },
  "language_info": {
   "codemirror_mode": {
    "name": "ipython",
    "version": 3
   },
   "file_extension": ".py",
   "mimetype": "text/x-python",
   "name": "python",
   "nbconvert_exporter": "python",
   "pygments_lexer": "ipython3",
   "version": "3.11.5"
  }
 },
 "nbformat": 4,
 "nbformat_minor": 5
}
