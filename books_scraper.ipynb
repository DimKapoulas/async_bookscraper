{
 "cells": [
  {
   "cell_type": "code",
   "execution_count": 37,
   "id": "7a625046-e11e-46c5-9e9d-0e83ec4917c7",
   "metadata": {},
   "outputs": [],
   "source": [
    "import requests\n",
    "from bs4 import BeautifulSoup\n",
    "import pandas as pd\n",
    "import os"
   ]
  },
  {
   "cell_type": "code",
   "execution_count": 31,
   "id": "fec75313-c4c5-4659-a6d8-69ed4c12557b",
   "metadata": {},
   "outputs": [],
   "source": [
    "# Scrapes the requirement elements from the page given\n",
    "def scrape_page(response, books):\n",
    "\n",
    "    # Parse site's content html\n",
    "    content = response.content\n",
    "    soup =  BeautifulSoup(content, 'html.parser')\n",
    "    \n",
    "    # Get the books from the list\n",
    "    ol = soup.find('ol')\n",
    "    articles = ol.find_all('article', class_='product_pod')\n",
    "    \n",
    "    \n",
    "    # Extract the fields needed\n",
    "    for article in articles:\n",
    "        image = article.find('img')\n",
    "        title = image.attrs['alt']\n",
    "        star_elem = article.find('p')\n",
    "        star_num = star_elem.attrs['class'][1]\n",
    "        price = article.find('p', class_='price_color').get_text()\n",
    "        price_float = float(price[1:])\n",
    "    \n",
    "        books.append([title, price_float, star_num])"
   ]
  },
  {
   "cell_type": "code",
   "execution_count": 32,
   "id": "f13f218c-cb14-45d2-a01e-64dc16fb1f29",
   "metadata": {},
   "outputs": [
    {
     "name": "stdout",
     "output_type": "stream",
     "text": [
      "1000\n"
     ]
    }
   ],
   "source": [
    "# Get all pages and scrape them one by one, handling errors\n",
    "books = []\n",
    "\n",
    "for i in range(1,51):\n",
    "    try:\n",
    "        URL = f\"http://books.toscrape.com/catalogue/page-{i}.html\"\n",
    "        response = requests.get(URL)\n",
    "        response.raise_for_status()\n",
    "\n",
    "        scrape_page(response, books)\n",
    "    \n",
    "    except requests.exceptions.HTTPError as e:\n",
    "        print(\"Error with request. Aborting...\")\n",
    "        raise SystemExit(e)"
   ]
  },
  {
   "cell_type": "code",
   "execution_count": 60,
   "id": "59637106-04a2-46c1-895d-0cfef1dc82ca",
   "metadata": {},
   "outputs": [],
   "source": [
    "df = pd.DataFrame(books, columns=['Title','Price', 'Star Rating'])\n",
    "#tod\n",
    "# df.set_index('Title', inplace=True, verify_integrity=False)\n",
    "df.to_csv('books.csv')"
   ]
  },
  {
   "cell_type": "code",
   "execution_count": null,
   "id": "64effa0c-04d4-4ed2-a684-8a204f671aac",
   "metadata": {},
   "outputs": [],
   "source": []
  }
 ],
 "metadata": {
  "kernelspec": {
   "display_name": "data311",
   "language": "python",
   "name": "data311"
  },
  "language_info": {
   "codemirror_mode": {
    "name": "ipython",
    "version": 3
   },
   "file_extension": ".py",
   "mimetype": "text/x-python",
   "name": "python",
   "nbconvert_exporter": "python",
   "pygments_lexer": "ipython3",
   "version": "3.11.5"
  }
 },
 "nbformat": 4,
 "nbformat_minor": 5
}
